{
  "cells": [
    {
      "cell_type": "code",
      "execution_count": null,
      "metadata": {
        "id": "rL_P7zYoWPEJ"
      },
      "outputs": [],
      "source": [
        "from IPython.display import Audio, display\n",
        "import os\n",
        "\n",
        "class MusicPlayer:\n",
        "    def __init__(self, music_folder_path=\"/content/sample_data\"):\n",
        "        self.music_folder_path = music_folder_path\n",
        "        self.music_files = [file for file in os.listdir(music_folder_path) if file.endswith(\".mp3\")]\n",
        "\n",
        "    def display_music_list(self):\n",
        "        print(\"** Welcome to Pywave **\")\n",
        "        print(\"Daftar Musik:\")\n",
        "        for i, music_file in enumerate(self.music_files, start=1):\n",
        "            print(f\"{i}. {music_file}\")\n",
        "\n",
        "    def play_music(self, index):\n",
        "        if 1 <= index <= len(self.music_files):\n",
        "            music_file = self.music_files[index - 1]\n",
        "            music_path = os.path.join(self.music_folder_path, music_file)\n",
        "            display(Audio(filename=music_path, autoplay=True))\n",
        "        else:\n",
        "            print(\"Indeks tidak valid.\")\n",
        "\n",
        "player = MusicPlayer()\n",
        "\n",
        "player.display_music_list()\n",
        "\n",
        "music_index = int(input(\"Pilih nomor musik yang ingin diputar: \"))\n",
        "player.play_music(music_index)"
      ]
    }
  ],
  "metadata": {
    "colab": {
      "provenance": []
    },
    "kernelspec": {
      "display_name": "Python 3",
      "name": "python3"
    },
    "language_info": {
      "name": "python"
    }
  },
  "nbformat": 4,
  "nbformat_minor": 0
}